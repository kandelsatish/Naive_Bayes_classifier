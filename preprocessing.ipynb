{
 "cells": [
  {
   "cell_type": "code",
   "execution_count": 1,
   "id": "5ca71334-4b2b-4921-aaa6-a0ffadae730e",
   "metadata": {},
   "outputs": [],
   "source": [
    "# importing all necessary liberaries\n",
    "import pandas as pd\n",
    "import numpy as np\n",
    "import matplotlib.pyplot as plt\n",
    "%matplotlib inline\n",
    "\n",
    "from sklearn.model_selection import train_test_split\n",
    "import email\n",
    "import os\n",
    "from os import walk\n",
    "from os.path import join"
   ]
  },
  {
   "cell_type": "code",
   "execution_count": 2,
   "id": "61641ad0-1320-4c2c-9e9a-04a916dcf69e",
   "metadata": {},
   "outputs": [],
   "source": [
    "# lets define constants\n",
    "SPAM_CAT=1\n",
    "HAM_CAT=0\n",
    "\n",
    "SPAM_PATH='data/spam'\n",
    "SPAM_PATH_2='data/spam_2'\n",
    "EASY_HAM='data/easy_ham'\n",
    "EASY_HAM_2='data/easy_ham2'\n",
    "EMAIL_SAMPLE='sample_email.txt'\n",
    "\n",
    "VOCAB_SIZE=2000"
   ]
  },
  {
   "cell_type": "code",
   "execution_count": 3,
   "id": "b145cae3-5d11-4c55-af6b-e216853dfa5d",
   "metadata": {},
   "outputs": [
    {
     "name": "stdout",
     "output_type": "stream",
     "text": [
      "A POWERHOUSE GIFTING PROGRAM You Don't Want To Miss! \n",
      "\n",
      " \n",
      "\n",
      "  GET IN WITH THE FOUNDERS! \n",
      "\n",
      "The MAJOR PLAYERS are on This ONE\n",
      "\n",
      "For ONCE be where the PlayerS are\n",
      "\n",
      "This is YOUR Private Invitation\n",
      "\n",
      "\n",
      "\n",
      "EXPERTS ARE CALLING THIS THE FASTEST WAY \n",
      "\n",
      "TO HUGE CASH FLOW EVER CONCEIVED\n",
      "\n",
      "Leverage $1,000 into $50,000 Over and Over Again\n",
      "\n",
      "\n",
      "\n",
      "THE QUESTION HERE IS:\n",
      "\n",
      "YOU EITHER WANT TO BE WEALTHY \n",
      "\n",
      "OR YOU DON'T!!!\n",
      "\n",
      "WHICH ONE ARE YOU?\n",
      "\n",
      "I am tossing you a financial lifeline and for your sake I \n",
      "\n",
      "Hope you GRAB onto it and hold on tight For the Ride of youR life!\n",
      "\n",
      "\n",
      "\n",
      "Testimonials\n",
      "\n",
      "\n",
      "\n",
      "Hear what average people are doing their first few days:\n",
      "\n",
      "ï¿½We've received 8,000 in 1 day and we are doing that over and over again!' Q.S. in AL\n",
      "\n",
      " ï¿½I'm a single mother in FL and I've received 12,000 in the last 4 days.ï¿½ D. S. in FL\n",
      "\n",
      "ï¿½I was not sure about this when I sent off my $1,000 pledge, but I got back $2,000 the very next day!ï¿½ L.L. in KY\n",
      "\n",
      "ï¿½I didn't have the money, so I found myself a partner to work this with. We have received $4,000 over the last 2 days. \n",
      "\n",
      "I think I made the right decision; don't you?ï¿½ K. C. in FL\n",
      "\n",
      "ï¿½I pick up $3,000 my first day and I  they gave me free leads and all the training, you can too!ï¿½ J.W. in CA\n",
      "\n",
      "\n",
      "\n",
      "ANNOUNCING: We will CLOSE your sales for YOU! And Help you get a Fax Blast IMMEDIATELY Upon Your Entry!!!    YOU Make the MONEY!!!\n",
      "\n",
      "FREE LEADS!!! TRAINING!!!\n",
      "\n",
      "\n",
      "\n",
      "$$DON'T WAIT!!! CALL NOW $$\n",
      "\n",
      "FAX BACK TO: 1-800-421-6318 OR Call 1-800-896-6568 \n",
      "\n",
      "\n",
      "\n",
      "Name__________________________________Phone___________________________________________\n",
      "\n",
      "\n",
      "\n",
      "Fax_____________________________________Email____________________________________________\n",
      "\n",
      "\n",
      "\n",
      "Best Time To Call_________________________Time Zone________________________________________\n",
      "\n",
      "\n",
      "\n",
      "This message is sent in compliance of the new e-mail bill. \"Per Section 301, Paragraph (a)(2)(C) of S. 1618, further transmissions by the sender of this email may be stopped, at no cost to you, by sending a reply to this email address with the word \"REMOVE\" in the subject line. Errors, omissions, and exceptions excluded.\n",
      "\n",
      " \n",
      "\n",
      "This is NOT spam! I have compiled this list from our Replicate Database, relative to Seattle Marketing Group, The Gigt, or Turbo Team for the sole purpose of these communications. Your continued inclusion is ONLY by your gracious permission. If you wish to not receive this mail from me, please send an email to tesrewinter@yahoo.com with \"Remove\" in the subject and you will be deleted immediately.\n",
      "\n",
      "\n",
      "\n",
      "\n",
      "\n",
      "\n",
      "\n"
     ]
    }
   ],
   "source": [
    "'''\n",
    "looking the the email body from both the spam and ham email, the actual body of the email starts after empty line, so anything after, \n",
    "\\n is the email body.\n",
    "'''\n",
    "f = open(EMAIL_SAMPLE, \"r\")\n",
    "# print(f.read()) #this returns string\n",
    "is_body=False\n",
    "lines=[]\n",
    "\n",
    "for line in f:\n",
    "    if is_body:\n",
    "        # print(line)\n",
    "        lines.append(line)\n",
    "    elif line=='\\n':\n",
    "        is_body=True\n",
    "\n",
    "email_body='\\n'.join(lines)\n",
    "print(email_body)\n"
   ]
  },
  {
   "cell_type": "code",
   "execution_count": 4,
   "id": "976a6836-706c-4697-9c8a-56e488e1091a",
   "metadata": {},
   "outputs": [],
   "source": [
    "'''\n",
    "In this step what we need to do is extract email body from each of the email, an label those email body with the name of the email.\n",
    "For this we will be writing the function, which will get name of all the files from the directory where our email are located and iterate over those \n",
    "emails to extract email body.\n",
    "'''\n",
    "def email_body_generator(path_to_file):\n",
    "    for root, dirs, files in walk(path_to_file):\n",
    "        for file in files:\n",
    "            f = open(os.path.join(root,file), \"r\",encoding='latin-1')\n",
    "            is_body=False\n",
    "            lines=[]\n",
    "        \n",
    "            for line in f:\n",
    "                if is_body:\n",
    "                    # print(line)\n",
    "                    lines.append(line)\n",
    "                elif line=='\\n':\n",
    "                    is_body=True\n",
    "            \n",
    "            email_body='\\n'.join(lines)\n",
    "            yield file,email_body"
   ]
  },
  {
   "cell_type": "code",
   "execution_count": 5,
   "id": "5518f5bd-8499-47c5-aab6-47e7435995aa",
   "metadata": {},
   "outputs": [],
   "source": [
    "def create_df_from_directory(path_to_file, category):\n",
    "  rows = []\n",
    "  row_names =[]\n",
    "  \n",
    "  for file, email_body in email_body_generator(path_to_file):\n",
    "      # print(file,email_body)\n",
    "    rows.append({'MESSAGE':email_body,'CATEGORY':category})\n",
    "    row_names.append(file)\n",
    "\n",
    "  return pd.DataFrame(data=rows, index=row_names)"
   ]
  },
  {
   "cell_type": "code",
   "execution_count": 6,
   "id": "aa10d734-9ddb-4b57-b7eb-0c5fb2c5d894",
   "metadata": {},
   "outputs": [
    {
     "data": {
      "text/html": [
       "<div>\n",
       "<style scoped>\n",
       "    .dataframe tbody tr th:only-of-type {\n",
       "        vertical-align: middle;\n",
       "    }\n",
       "\n",
       "    .dataframe tbody tr th {\n",
       "        vertical-align: top;\n",
       "    }\n",
       "\n",
       "    .dataframe thead th {\n",
       "        text-align: right;\n",
       "    }\n",
       "</style>\n",
       "<table border=\"1\" class=\"dataframe\">\n",
       "  <thead>\n",
       "    <tr style=\"text-align: right;\">\n",
       "      <th></th>\n",
       "      <th>MESSAGE</th>\n",
       "      <th>CATEGORY</th>\n",
       "    </tr>\n",
       "  </thead>\n",
       "  <tbody>\n",
       "    <tr>\n",
       "      <th>0000.7b1b73cf36cf9dbc3d64e3f2ee2b91f1</th>\n",
       "      <td></td>\n",
       "      <td>spam</td>\n",
       "    </tr>\n",
       "    <tr>\n",
       "      <th>00001.7848dde101aa985090474a91ec93fcf0</th>\n",
       "      <td>&lt;!DOCTYPE HTML PUBLIC \"-//W3C//DTD HTML 4.0 Tr...</td>\n",
       "      <td>spam</td>\n",
       "    </tr>\n",
       "    <tr>\n",
       "      <th>00002.d94f1b97e48ed3b553b3508d116e6a09</th>\n",
       "      <td>1) Fight The Risk of Cancer!\\n\\nhttp://www.adc...</td>\n",
       "      <td>spam</td>\n",
       "    </tr>\n",
       "    <tr>\n",
       "      <th>00003.2ee33bc6eacdb11f38d052c44819ba6c</th>\n",
       "      <td>1) Fight The Risk of Cancer!\\n\\nhttp://www.adc...</td>\n",
       "      <td>spam</td>\n",
       "    </tr>\n",
       "    <tr>\n",
       "      <th>00004.eac8de8d759b7e74154f142194282724</th>\n",
       "      <td>##############################################...</td>\n",
       "      <td>spam</td>\n",
       "    </tr>\n",
       "    <tr>\n",
       "      <th>...</th>\n",
       "      <td>...</td>\n",
       "      <td>...</td>\n",
       "    </tr>\n",
       "    <tr>\n",
       "      <th>0498.863566df8e5f17f979edca79d1e87187</th>\n",
       "      <td>&lt;html&gt;\\n\\n\\n\\n&lt;head&gt;\\n\\n&lt;meta http-equiv=\"Cont...</td>\n",
       "      <td>spam</td>\n",
       "    </tr>\n",
       "    <tr>\n",
       "      <th>0499.4a17fbd7fe71705e09b4dd2e24d802dd</th>\n",
       "      <td>&lt;HTML&gt;\\n\\n&lt;BODY&gt;\\n\\n  &lt;tr valign=3D\"top\"&gt; \\n\\n...</td>\n",
       "      <td>spam</td>\n",
       "    </tr>\n",
       "    <tr>\n",
       "      <th>0500.2e8762b67913d1b07bc8da293448d27f</th>\n",
       "      <td>UNCOMMON EXOTIC PLEASURE BOTANICALS!\\n\\n\\n\\nFe...</td>\n",
       "      <td>spam</td>\n",
       "    </tr>\n",
       "    <tr>\n",
       "      <th>cmds</th>\n",
       "      <td></td>\n",
       "      <td>spam</td>\n",
       "    </tr>\n",
       "    <tr>\n",
       "      <th>00003-checkpoint.2ee33bc6eacdb11f38d052c44819ba6c</th>\n",
       "      <td>1) Fight The Risk of Cancer!\\n\\nhttp://www.adc...</td>\n",
       "      <td>spam</td>\n",
       "    </tr>\n",
       "  </tbody>\n",
       "</table>\n",
       "<p>1003 rows × 2 columns</p>\n",
       "</div>"
      ],
      "text/plain": [
       "                                                                                             MESSAGE  \\\n",
       "0000.7b1b73cf36cf9dbc3d64e3f2ee2b91f1                                                                  \n",
       "00001.7848dde101aa985090474a91ec93fcf0             <!DOCTYPE HTML PUBLIC \"-//W3C//DTD HTML 4.0 Tr...   \n",
       "00002.d94f1b97e48ed3b553b3508d116e6a09             1) Fight The Risk of Cancer!\\n\\nhttp://www.adc...   \n",
       "00003.2ee33bc6eacdb11f38d052c44819ba6c             1) Fight The Risk of Cancer!\\n\\nhttp://www.adc...   \n",
       "00004.eac8de8d759b7e74154f142194282724             ##############################################...   \n",
       "...                                                                                              ...   \n",
       "0498.863566df8e5f17f979edca79d1e87187              <html>\\n\\n\\n\\n<head>\\n\\n<meta http-equiv=\"Cont...   \n",
       "0499.4a17fbd7fe71705e09b4dd2e24d802dd              <HTML>\\n\\n<BODY>\\n\\n  <tr valign=3D\"top\"> \\n\\n...   \n",
       "0500.2e8762b67913d1b07bc8da293448d27f              UNCOMMON EXOTIC PLEASURE BOTANICALS!\\n\\n\\n\\nFe...   \n",
       "cmds                                                                                                   \n",
       "00003-checkpoint.2ee33bc6eacdb11f38d052c44819ba6c  1) Fight The Risk of Cancer!\\n\\nhttp://www.adc...   \n",
       "\n",
       "                                                  CATEGORY  \n",
       "0000.7b1b73cf36cf9dbc3d64e3f2ee2b91f1                 spam  \n",
       "00001.7848dde101aa985090474a91ec93fcf0                spam  \n",
       "00002.d94f1b97e48ed3b553b3508d116e6a09                spam  \n",
       "00003.2ee33bc6eacdb11f38d052c44819ba6c                spam  \n",
       "00004.eac8de8d759b7e74154f142194282724                spam  \n",
       "...                                                    ...  \n",
       "0498.863566df8e5f17f979edca79d1e87187                 spam  \n",
       "0499.4a17fbd7fe71705e09b4dd2e24d802dd                 spam  \n",
       "0500.2e8762b67913d1b07bc8da293448d27f                 spam  \n",
       "cmds                                                  spam  \n",
       "00003-checkpoint.2ee33bc6eacdb11f38d052c44819ba6c     spam  \n",
       "\n",
       "[1003 rows x 2 columns]"
      ]
     },
     "execution_count": 6,
     "metadata": {},
     "output_type": "execute_result"
    }
   ],
   "source": [
    "create_df_from_directory('data/spam','spam')"
   ]
  },
  {
   "cell_type": "code",
   "execution_count": 7,
   "id": "15d48aab-6f8a-4d69-9dd1-67db14953076",
   "metadata": {},
   "outputs": [],
   "source": [
    "# Create dataframes for spam and non spam emails\n",
    "spam_emails=pd.concat([create_df_from_directory(SPAM_PATH,SPAM_CAT),create_df_from_directory(SPAM_PATH_2,SPAM_CAT)])\n",
    "# create dataframe for the non spam emails\n",
    "ham_emails=pd.concat([create_df_from_directory(EASY_HAM,HAM_CAT),create_df_from_directory(EASY_HAM_2,HAM_CAT)])"
   ]
  },
  {
   "cell_type": "code",
   "execution_count": 8,
   "id": "e0114a34-0d15-454e-8eb5-919c7e639835",
   "metadata": {},
   "outputs": [
    {
     "data": {
      "text/html": [
       "<div>\n",
       "<style scoped>\n",
       "    .dataframe tbody tr th:only-of-type {\n",
       "        vertical-align: middle;\n",
       "    }\n",
       "\n",
       "    .dataframe tbody tr th {\n",
       "        vertical-align: top;\n",
       "    }\n",
       "\n",
       "    .dataframe thead th {\n",
       "        text-align: right;\n",
       "    }\n",
       "</style>\n",
       "<table border=\"1\" class=\"dataframe\">\n",
       "  <thead>\n",
       "    <tr style=\"text-align: right;\">\n",
       "      <th></th>\n",
       "      <th>MESSAGE</th>\n",
       "      <th>CATEGORY</th>\n",
       "    </tr>\n",
       "  </thead>\n",
       "  <tbody>\n",
       "    <tr>\n",
       "      <th>0000.7b1b73cf36cf9dbc3d64e3f2ee2b91f1</th>\n",
       "      <td></td>\n",
       "      <td>1</td>\n",
       "    </tr>\n",
       "    <tr>\n",
       "      <th>00001.7848dde101aa985090474a91ec93fcf0</th>\n",
       "      <td>&lt;!DOCTYPE HTML PUBLIC \"-//W3C//DTD HTML 4.0 Tr...</td>\n",
       "      <td>1</td>\n",
       "    </tr>\n",
       "    <tr>\n",
       "      <th>00002.d94f1b97e48ed3b553b3508d116e6a09</th>\n",
       "      <td>1) Fight The Risk of Cancer!\\n\\nhttp://www.adc...</td>\n",
       "      <td>1</td>\n",
       "    </tr>\n",
       "    <tr>\n",
       "      <th>00003.2ee33bc6eacdb11f38d052c44819ba6c</th>\n",
       "      <td>1) Fight The Risk of Cancer!\\n\\nhttp://www.adc...</td>\n",
       "      <td>1</td>\n",
       "    </tr>\n",
       "    <tr>\n",
       "      <th>00004.eac8de8d759b7e74154f142194282724</th>\n",
       "      <td>##############################################...</td>\n",
       "      <td>1</td>\n",
       "    </tr>\n",
       "  </tbody>\n",
       "</table>\n",
       "</div>"
      ],
      "text/plain": [
       "                                                                                  MESSAGE  \\\n",
       "0000.7b1b73cf36cf9dbc3d64e3f2ee2b91f1                                                       \n",
       "00001.7848dde101aa985090474a91ec93fcf0  <!DOCTYPE HTML PUBLIC \"-//W3C//DTD HTML 4.0 Tr...   \n",
       "00002.d94f1b97e48ed3b553b3508d116e6a09  1) Fight The Risk of Cancer!\\n\\nhttp://www.adc...   \n",
       "00003.2ee33bc6eacdb11f38d052c44819ba6c  1) Fight The Risk of Cancer!\\n\\nhttp://www.adc...   \n",
       "00004.eac8de8d759b7e74154f142194282724  ##############################################...   \n",
       "\n",
       "                                        CATEGORY  \n",
       "0000.7b1b73cf36cf9dbc3d64e3f2ee2b91f1          1  \n",
       "00001.7848dde101aa985090474a91ec93fcf0         1  \n",
       "00002.d94f1b97e48ed3b553b3508d116e6a09         1  \n",
       "00003.2ee33bc6eacdb11f38d052c44819ba6c         1  \n",
       "00004.eac8de8d759b7e74154f142194282724         1  "
      ]
     },
     "execution_count": 8,
     "metadata": {},
     "output_type": "execute_result"
    }
   ],
   "source": [
    "spam_emails.head()"
   ]
  },
  {
   "cell_type": "code",
   "execution_count": 9,
   "id": "e0e980a1-6323-4a3a-9a5c-8ab068d1d492",
   "metadata": {},
   "outputs": [
    {
     "name": "stdout",
     "output_type": "stream",
     "text": [
      "Total number of non-spam emails is :5052\n"
     ]
    }
   ],
   "source": [
    "nHamEmails,nCols=ham_emails.shape\n",
    "print(\"Total number of non-spam emails is :{}\".format(nHamEmails))"
   ]
  },
  {
   "cell_type": "code",
   "execution_count": 10,
   "id": "3ad09dc6-1963-4071-9958-2073f52de21d",
   "metadata": {},
   "outputs": [
    {
     "name": "stdout",
     "output_type": "stream",
     "text": [
      "Total number of spam emails is :5052\n"
     ]
    }
   ],
   "source": [
    "nSpamEmails,nCols=spam_emails.shape\n",
    "print(\"Total number of spam emails is :{}\".format(nHamEmails))"
   ]
  },
  {
   "cell_type": "code",
   "execution_count": 11,
   "id": "74f47b61-c2e3-47d4-b1f1-f90bff711360",
   "metadata": {},
   "outputs": [
    {
     "name": "stdout",
     "output_type": "stream",
     "text": [
      "The total size data is: 7453\n"
     ]
    }
   ],
   "source": [
    "all_emails=pd.concat([ham_emails,spam_emails])\n",
    "nEmails,nCols=all_emails.shape\n",
    "print(\"The total size data is: {}\".format(nEmails))"
   ]
  },
  {
   "cell_type": "markdown",
   "id": "babbd746-c615-4f87-98c9-ac13f3b7f6bd",
   "metadata": {},
   "source": [
    "### Checking for any missing values"
   ]
  },
  {
   "cell_type": "code",
   "execution_count": 12,
   "id": "aa3bc4b1-7cd2-4e5d-81a0-9b796552b2e9",
   "metadata": {},
   "outputs": [
    {
     "data": {
      "text/plain": [
       "MESSAGE     0\n",
       "CATEGORY    0\n",
       "dtype: int64"
      ]
     },
     "execution_count": 12,
     "metadata": {},
     "output_type": "execute_result"
    }
   ],
   "source": [
    "all_emails.isnull().sum()"
   ]
  },
  {
   "cell_type": "code",
   "execution_count": 13,
   "id": "74cae2b0-103b-4fb1-b254-2682b1b704db",
   "metadata": {},
   "outputs": [
    {
     "data": {
      "text/plain": [
       "False"
      ]
     },
     "execution_count": 13,
     "metadata": {},
     "output_type": "execute_result"
    }
   ],
   "source": [
    "# check if there is any null value in the message\n",
    "all_emails['MESSAGE'].isnull().any()"
   ]
  },
  {
   "cell_type": "code",
   "execution_count": 14,
   "id": "1167c2ca-93f4-4d4f-a219-6ab29748f5dd",
   "metadata": {},
   "outputs": [
    {
     "name": "stdout",
     "output_type": "stream",
     "text": [
      "['cmds', '0000.7b1b73cf36cf9dbc3d64e3f2ee2b91f1', 'cmds', 'cmds']\n"
     ]
    }
   ],
   "source": [
    "# check if the message has any empty string\n",
    "message=all_emails['MESSAGE']\n",
    "lis=[]\n",
    "for index, value in message.items():\n",
    "    if len(value)==0:\n",
    "        lis.append(index)\n",
    "\n",
    "print(lis) "
   ]
  },
  {
   "cell_type": "code",
   "execution_count": 15,
   "id": "90211ed4-2536-4748-9996-54f49399887f",
   "metadata": {},
   "outputs": [],
   "source": [
    "# check if the message has any empty string and locate them\n",
    "# message=all_emails['MESSAGE']\n",
    "# lis=[]\n",
    "# for index, value in enumerate(message):\n",
    "#     if len(value)==0:\n",
    "#         lis.append(index)\n",
    "\n",
    "# print(lis) "
   ]
  },
  {
   "cell_type": "code",
   "execution_count": 16,
   "id": "4c420941-90c8-43c9-a7ec-21c091bb4211",
   "metadata": {},
   "outputs": [],
   "source": [
    "# drop all the data that are located to be empty\n",
    "all_emails.drop(lis,inplace=True)"
   ]
  },
  {
   "cell_type": "code",
   "execution_count": 17,
   "id": "416ac8f2-2217-4b48-85a5-c6863cca56d5",
   "metadata": {},
   "outputs": [
    {
     "data": {
      "text/plain": [
       "(7449, 2)"
      ]
     },
     "execution_count": 17,
     "metadata": {},
     "output_type": "execute_result"
    }
   ],
   "source": [
    "# size of our data after dropping rows with empty message.\n",
    "all_emails.shape"
   ]
  },
  {
   "cell_type": "code",
   "execution_count": null,
   "id": "208abca5-2589-4b9b-8985-b5015494d326",
   "metadata": {},
   "outputs": [],
   "source": []
  }
 ],
 "metadata": {
  "kernelspec": {
   "display_name": "Python 3 (ipykernel)",
   "language": "python",
   "name": "python3"
  },
  "language_info": {
   "codemirror_mode": {
    "name": "ipython",
    "version": 3
   },
   "file_extension": ".py",
   "mimetype": "text/x-python",
   "name": "python",
   "nbconvert_exporter": "python",
   "pygments_lexer": "ipython3",
   "version": "3.11.5"
  }
 },
 "nbformat": 4,
 "nbformat_minor": 5
}
